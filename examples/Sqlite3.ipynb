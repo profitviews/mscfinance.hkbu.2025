{
 "cells": [
  {
   "cell_type": "code",
   "execution_count": null,
   "metadata": {
    "vscode": {
     "languageId": "plaintext"
    }
   },
   "outputs": [],
   "source": [
    "import requests\n",
    "\n",
    "# your webhook: https://profitview.net/trading/signal/YOUR_KEY/count_of_trades\n",
    "key = \"YOUR_KEY\"\n",
    "webhook_url_base = f\"https://profitview.net/trading/signal/{key}/\""
   ]
  },
  {
   "cell_type": "code",
   "execution_count": null,
   "metadata": {
    "vscode": {
     "languageId": "plaintext"
    }
   },
   "outputs": [],
   "source": [
    "payload = {\n",
    "    \"start\": \"True\"\n",
    "}\n",
    "hook = \"start\""
   ]
  }
 ],
 "metadata": {
  "language_info": {
   "name": "python"
  }
 },
 "nbformat": 4,
 "nbformat_minor": 2
}
