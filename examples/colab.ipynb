{
 "cells": [
  {
   "cell_type": "code",
   "execution_count": null,
   "metadata": {
    "vscode": {
     "languageId": "plaintext"
    }
   },
   "outputs": [],
   "source": [
    "import requests\n",
    "\n",
    "webhook_url = \"Put your ProfitView POST webhook_url here!\"\n",
    "\n",
    "# You can replace this dictionary with the data you want to send in the POST request\n",
    "payload = {\n",
    "    \"start\": \"True\"\n",
    "}\n",
    "\n",
    "response = requests.post(webhook_url, json=payload)\n",
    "\n",
    "if response.status_code == 200:\n",
    "    print(\"POST request successful!\")\n",
    "    print(\"Response:\")\n",
    "    print(response.text)\n",
    "else:\n",
    "    print(f\"POST request failed with status code: {response.status_code}\")\n",
    "    print(\"Response:\")\n",
    "response.text"
   ]
  }
 ],
 "metadata": {
  "language_info": {
   "name": "python"
  }
 },
 "nbformat": 4,
 "nbformat_minor": 2
}
